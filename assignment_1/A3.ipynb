{
 "cells": [
  {
   "cell_type": "code",
   "execution_count": null,
   "metadata": {},
   "outputs": [],
   "source": [
    "#使用matlab或python实现维纳滤波，要求：比较信噪比未知，信噪比已知，图像和噪声自相关函数已知，这三种情况下的图像复原结果。\n"
   ]
  }
 ],
 "metadata": {
  "language_info": {
   "name": "python"
  },
  "orig_nbformat": 4
 },
 "nbformat": 4,
 "nbformat_minor": 2
}
