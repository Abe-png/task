{
 "cells": [
  {
   "cell_type": "code",
   "execution_count": null,
   "metadata": {},
   "outputs": [],
   "source": [
    "#使用matlab或python实现维纳滤波，要求：比较信噪比未知，信噪比已知，图像和噪声自相关函数已知，这三种情况下的图像复原结果。\n",
    "import numpy as np\n",
    "import cv2\n",
    "\n",
    "def wiener_filter(image, kernel, K):\n",
    "    # 计算傅里叶变换\n",
    "    image_fft = np.fft.fft2(image)\n",
    "    kernel_fft = np.fft.fft2(kernel, s=image.shape[:2])\n",
    "    # 计算功率谱\n",
    "    image_power = np.abs(image_fft) ** 2\n",
    "    kernel_power = np.abs(kernel_fft) ** 2\n",
    "    # 计算信噪比\n",
    "    snr = K / np.mean(kernel_power)\n",
    "    # 计算滤波器\n",
    "    filter_fft = np.conj(kernel_fft) / (kernel_power + snr)\n",
    "    # 进行滤波\n",
    "    filtered_fft = filter_fft * image_fft\n",
    "    filtered_image = np.real(np.fft.ifft2(filtered_fft))\n",
    "    # 将像素值限制在0到255之间\n",
    "    filtered_image = np.clip(filtered_image, 0, 255)\n",
    "    # 转换为8位无符号整数\n",
    "    filtered_image = np.uint8(filtered_image)\n",
    "    return filtered_image\n"
   ]
  }
 ],
 "metadata": {
  "language_info": {
   "name": "python"
  },
  "orig_nbformat": 4
 },
 "nbformat": 4,
 "nbformat_minor": 2
}
